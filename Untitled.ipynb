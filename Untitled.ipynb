{
 "cells": [
  {
   "cell_type": "code",
   "execution_count": 1,
   "metadata": {},
   "outputs": [],
   "source": [
    "import pandas as pd\n",
    "import numpy as np\n",
    "import matplotlib.pyplot as plt\n",
    "%matplotlib inline"
   ]
  },
  {
   "cell_type": "code",
   "execution_count": 3,
   "metadata": {},
   "outputs": [],
   "source": [
    "#CARGANDO LOS DATAFRAME\n",
    "v100 = pd.read_csv(\"./VertX/Resultados/InsertaryEliminar1/InsertaryEliminar100.csv\")\n",
    "v500 = pd.read_csv(\"./VertX/Resultados/InsertaryEliminar1/InsertaryEliminar500.csv\")\n",
    "v1000 = pd.read_csv(\"./VertX/Resultados/InsertaryEliminar1/InsertaryEliminar1000.csv\")"
   ]
  },
  {
   "cell_type": "code",
   "execution_count": 4,
   "metadata": {},
   "outputs": [
    {
     "data": {
      "text/html": [
       "<div>\n",
       "<style scoped>\n",
       "    .dataframe tbody tr th:only-of-type {\n",
       "        vertical-align: middle;\n",
       "    }\n",
       "\n",
       "    .dataframe tbody tr th {\n",
       "        vertical-align: top;\n",
       "    }\n",
       "\n",
       "    .dataframe thead th {\n",
       "        text-align: right;\n",
       "    }\n",
       "</style>\n",
       "<table border=\"1\" class=\"dataframe\">\n",
       "  <thead>\n",
       "    <tr style=\"text-align: right;\">\n",
       "      <th></th>\n",
       "      <th>timeStamp</th>\n",
       "      <th>elapsed</th>\n",
       "      <th>label</th>\n",
       "      <th>responseCode</th>\n",
       "      <th>responseMessage</th>\n",
       "      <th>threadName</th>\n",
       "      <th>dataType</th>\n",
       "      <th>success</th>\n",
       "      <th>failureMessage</th>\n",
       "      <th>bytes</th>\n",
       "      <th>sentBytes</th>\n",
       "      <th>grpThreads</th>\n",
       "      <th>allThreads</th>\n",
       "      <th>Latency</th>\n",
       "      <th>IdleTime</th>\n",
       "      <th>Connect</th>\n",
       "    </tr>\n",
       "  </thead>\n",
       "  <tbody>\n",
       "    <tr>\n",
       "      <th>0</th>\n",
       "      <td>1535304000160</td>\n",
       "      <td>1139</td>\n",
       "      <td>Petición HTTP</td>\n",
       "      <td>200</td>\n",
       "      <td>OK</td>\n",
       "      <td>Grupo de Hilos 1-40</td>\n",
       "      <td>text</td>\n",
       "      <td>True</td>\n",
       "      <td>NaN</td>\n",
       "      <td>306</td>\n",
       "      <td>140</td>\n",
       "      <td>100</td>\n",
       "      <td>100</td>\n",
       "      <td>242</td>\n",
       "      <td>0</td>\n",
       "      <td>1</td>\n",
       "    </tr>\n",
       "    <tr>\n",
       "      <th>1</th>\n",
       "      <td>1535304000068</td>\n",
       "      <td>1232</td>\n",
       "      <td>Petición HTTP</td>\n",
       "      <td>200</td>\n",
       "      <td>OK</td>\n",
       "      <td>Grupo de Hilos 1-31</td>\n",
       "      <td>text</td>\n",
       "      <td>True</td>\n",
       "      <td>NaN</td>\n",
       "      <td>306</td>\n",
       "      <td>140</td>\n",
       "      <td>100</td>\n",
       "      <td>100</td>\n",
       "      <td>317</td>\n",
       "      <td>0</td>\n",
       "      <td>19</td>\n",
       "    </tr>\n",
       "    <tr>\n",
       "      <th>2</th>\n",
       "      <td>1535303999919</td>\n",
       "      <td>1380</td>\n",
       "      <td>Petición HTTP</td>\n",
       "      <td>200</td>\n",
       "      <td>OK</td>\n",
       "      <td>Grupo de Hilos 1-17</td>\n",
       "      <td>text</td>\n",
       "      <td>True</td>\n",
       "      <td>NaN</td>\n",
       "      <td>306</td>\n",
       "      <td>140</td>\n",
       "      <td>100</td>\n",
       "      <td>100</td>\n",
       "      <td>437</td>\n",
       "      <td>0</td>\n",
       "      <td>84</td>\n",
       "    </tr>\n",
       "    <tr>\n",
       "      <th>3</th>\n",
       "      <td>1535304000076</td>\n",
       "      <td>1222</td>\n",
       "      <td>Petición HTTP</td>\n",
       "      <td>200</td>\n",
       "      <td>OK</td>\n",
       "      <td>Grupo de Hilos 1-32</td>\n",
       "      <td>text</td>\n",
       "      <td>True</td>\n",
       "      <td>NaN</td>\n",
       "      <td>306</td>\n",
       "      <td>140</td>\n",
       "      <td>100</td>\n",
       "      <td>100</td>\n",
       "      <td>327</td>\n",
       "      <td>0</td>\n",
       "      <td>11</td>\n",
       "    </tr>\n",
       "    <tr>\n",
       "      <th>4</th>\n",
       "      <td>1535304000119</td>\n",
       "      <td>1179</td>\n",
       "      <td>Petición HTTP</td>\n",
       "      <td>200</td>\n",
       "      <td>OK</td>\n",
       "      <td>Grupo de Hilos 1-36</td>\n",
       "      <td>text</td>\n",
       "      <td>True</td>\n",
       "      <td>NaN</td>\n",
       "      <td>306</td>\n",
       "      <td>140</td>\n",
       "      <td>100</td>\n",
       "      <td>100</td>\n",
       "      <td>283</td>\n",
       "      <td>0</td>\n",
       "      <td>1</td>\n",
       "    </tr>\n",
       "  </tbody>\n",
       "</table>\n",
       "</div>"
      ],
      "text/plain": [
       "       timeStamp  elapsed          label  responseCode responseMessage  \\\n",
       "0  1535304000160     1139  Petición HTTP           200              OK   \n",
       "1  1535304000068     1232  Petición HTTP           200              OK   \n",
       "2  1535303999919     1380  Petición HTTP           200              OK   \n",
       "3  1535304000076     1222  Petición HTTP           200              OK   \n",
       "4  1535304000119     1179  Petición HTTP           200              OK   \n",
       "\n",
       "            threadName dataType  success  failureMessage  bytes  sentBytes  \\\n",
       "0  Grupo de Hilos 1-40     text     True             NaN    306        140   \n",
       "1  Grupo de Hilos 1-31     text     True             NaN    306        140   \n",
       "2  Grupo de Hilos 1-17     text     True             NaN    306        140   \n",
       "3  Grupo de Hilos 1-32     text     True             NaN    306        140   \n",
       "4  Grupo de Hilos 1-36     text     True             NaN    306        140   \n",
       "\n",
       "   grpThreads  allThreads  Latency  IdleTime  Connect  \n",
       "0         100         100      242         0        1  \n",
       "1         100         100      317         0       19  \n",
       "2         100         100      437         0       84  \n",
       "3         100         100      327         0       11  \n",
       "4         100         100      283         0        1  "
      ]
     },
     "execution_count": 4,
     "metadata": {},
     "output_type": "execute_result"
    }
   ],
   "source": [
    "#INSPECCIONANDO\n",
    "v100.head()"
   ]
  },
  {
   "cell_type": "code",
   "execution_count": 11,
   "metadata": {},
   "outputs": [
    {
     "data": {
      "text/plain": [
       "(<matplotlib.axes._subplots.AxesSubplot at 0x7f16ccd53438>,\n",
       " <matplotlib.axes._subplots.AxesSubplot at 0x7f16ccd53438>,\n",
       " <matplotlib.axes._subplots.AxesSubplot at 0x7f16ccd53438>)"
      ]
     },
     "execution_count": 11,
     "metadata": {},
     "output_type": "execute_result"
    },
    {
     "data": {
      "image/png": "[encoded data removed]",
      "text/plain": [
       "<Figure size 432x288 with 1 Axes>"
      ]
     },
     "metadata": {},
     "output_type": "display_data"
    }
   ],
   "source": [
    "#GRAFICANDO V100\n",
    "v100.Latency.plot(), v500.Latency.plot(), v1000.Latency.plot()"
   ]
  },
  {
   "cell_type": "code",
   "execution_count": null,
   "metadata": {},
   "outputs": [],
   "source": []
  }
 ],
 "metadata": {
  "kernelspec": {
   "display_name": "Python 3",
   "language": "python",
   "name": "python3"
  },
  "language_info": {
   "codemirror_mode": {
    "name": "ipython",
    "version": 3
   },
   "file_extension": ".py",
   "mimetype": "text/x-python",
   "name": "python",
   "nbconvert_exporter": "python",
   "pygments_lexer": "ipython3",
   "version": "3.6.5"
  }
 },
 "nbformat": 4,
 "nbformat_minor": 2
}
